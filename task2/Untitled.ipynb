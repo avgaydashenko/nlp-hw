{
 "cells": [
  {
   "cell_type": "code",
   "execution_count": 100,
   "metadata": {},
   "outputs": [],
   "source": [
    "import numpy as np\n",
    "\n",
    "from alphabet_detector import AlphabetDetector\n",
    "ad = AlphabetDetector()"
   ]
  },
  {
   "cell_type": "code",
   "execution_count": 173,
   "metadata": {},
   "outputs": [],
   "source": [
    "def split(text):\n",
    "    tmp = []\n",
    "    curr_sent = []\n",
    "    curr_word = ''\n",
    "    for ch in text:\n",
    "        curr_word = curr_word.lower()\n",
    "        if ch == ' ':\n",
    "            if len(curr_word) > 0:\n",
    "                if ad.only_alphabet_chars(curr_word, \"CYRILLIC\"):\n",
    "                    curr_sent.append(curr_word)\n",
    "                curr_word = ''\n",
    "        elif ch.isalpha():\n",
    "            if ch == 'n':\n",
    "                if len(curr_word) > 1:\n",
    "                    if ad.only_alphabet_chars(curr_word, \"CYRILLIC\"):\n",
    "#                         print(curr_word)\n",
    "                        curr_sent.append(curr_word)\n",
    "                    curr_word = ''\n",
    "                if len(curr_sent) > 1:\n",
    "                    tmp.append(curr_sent)\n",
    "                    curr_sent = []\n",
    "            else:\n",
    "                if ad.only_alphabet_chars(curr_word, \"CYRILLIC\"):\n",
    "                    curr_word += ch\n",
    "\n",
    "    if len(curr_word) > 0:\n",
    "        if ad.only_alphabet_chars(curr_word, \"CYRILLIC\"):\n",
    "            curr_sent.append(curr_word)\n",
    "    if len(curr_sent) > 0:\n",
    "        tmp.append(curr_sent)\n",
    "    \n",
    "    print(tmp[:3])\n",
    "    tmp = tmp[:3] + tmp[-1]\n",
    "    \n",
    "    return tmp"
   ]
  },
  {
   "cell_type": "code",
   "execution_count": 174,
   "metadata": {},
   "outputs": [
    {
     "name": "stdout",
     "output_type": "stream",
     "text": [
      "[]\n"
     ]
    },
    {
     "ename": "IndexError",
     "evalue": "list index out of range",
     "output_type": "error",
     "traceback": [
      "\u001b[0;31m---------------------------------------------------------------------------\u001b[0m",
      "\u001b[0;31mIndexError\u001b[0m                                Traceback (most recent call last)",
      "\u001b[0;32m<ipython-input-174-b9f39f1fd872>\u001b[0m in \u001b[0;36m<module>\u001b[0;34m()\u001b[0m\n\u001b[1;32m      5\u001b[0m             \u001b[0;32mcontinue\u001b[0m\u001b[0;34m\u001b[0m\u001b[0m\n\u001b[1;32m      6\u001b[0m         \u001b[0;32melse\u001b[0m\u001b[0;34m:\u001b[0m\u001b[0;34m\u001b[0m\u001b[0m\n\u001b[0;32m----> 7\u001b[0;31m             \u001b[0mresult\u001b[0m\u001b[0;34m.\u001b[0m\u001b[0mappend\u001b[0m\u001b[0;34m(\u001b[0m\u001b[0;34m'\"'\u001b[0m \u001b[0;34m+\u001b[0m \u001b[0mannot\u001b[0m\u001b[0;34m(\u001b[0m\u001b[0msplit\u001b[0m\u001b[0;34m(\u001b[0m\u001b[0mtext\u001b[0m\u001b[0;34m)\u001b[0m\u001b[0;34m)\u001b[0m \u001b[0;34m+\u001b[0m \u001b[0;34m'\"'\u001b[0m\u001b[0;34m)\u001b[0m\u001b[0;34m\u001b[0m\u001b[0m\n\u001b[0m\u001b[1;32m      8\u001b[0m \u001b[0;31m#             print(split(text))\u001b[0m\u001b[0;34m\u001b[0m\u001b[0;34m\u001b[0m\u001b[0m\n\u001b[1;32m      9\u001b[0m \u001b[0;34m\u001b[0m\u001b[0m\n",
      "\u001b[0;32m<ipython-input-173-bef9f83d1c96>\u001b[0m in \u001b[0;36msplit\u001b[0;34m(text)\u001b[0m\n\u001b[1;32m     31\u001b[0m \u001b[0;34m\u001b[0m\u001b[0m\n\u001b[1;32m     32\u001b[0m     \u001b[0mprint\u001b[0m\u001b[0;34m(\u001b[0m\u001b[0mtmp\u001b[0m\u001b[0;34m[\u001b[0m\u001b[0;34m:\u001b[0m\u001b[0;36m3\u001b[0m\u001b[0;34m]\u001b[0m\u001b[0;34m)\u001b[0m\u001b[0;34m\u001b[0m\u001b[0m\n\u001b[0;32m---> 33\u001b[0;31m     \u001b[0mtmp\u001b[0m \u001b[0;34m=\u001b[0m \u001b[0mtmp\u001b[0m\u001b[0;34m[\u001b[0m\u001b[0;34m:\u001b[0m\u001b[0;36m3\u001b[0m\u001b[0;34m]\u001b[0m \u001b[0;34m+\u001b[0m \u001b[0mtmp\u001b[0m\u001b[0;34m[\u001b[0m\u001b[0;34m-\u001b[0m\u001b[0;36m1\u001b[0m\u001b[0;34m]\u001b[0m\u001b[0;34m\u001b[0m\u001b[0m\n\u001b[0m\u001b[1;32m     34\u001b[0m \u001b[0;34m\u001b[0m\u001b[0m\n\u001b[1;32m     35\u001b[0m     \u001b[0;32mreturn\u001b[0m \u001b[0mtmp\u001b[0m\u001b[0;34m\u001b[0m\u001b[0m\n",
      "\u001b[0;31mIndexError\u001b[0m: list index out of range"
     ]
    }
   ],
   "source": [
    "with open('dataset_43428_1.txt') as file_data:\n",
    "    result = []\n",
    "    for text in file_data:\n",
    "        if text in ['[\\n', ']\\n']:\n",
    "            continue\n",
    "        else:\n",
    "            result.append('\"' + annot(split(text)) + '\"')\n",
    "#             print(split(text))\n",
    "            \n",
    "with open('output.txt', 'w') as file_res:\n",
    "    file_res.write(\"[\" + ', '.join(result) + \"]\")"
   ]
  },
  {
   "cell_type": "code",
   "execution_count": 164,
   "metadata": {},
   "outputs": [],
   "source": [
    "def annot(text):        \n",
    "    \n",
    "    result = ''\n",
    "    \n",
    "    for i in range(1, min(4, len(text))):\n",
    "        result += ' '.join(text[i]) + ' '\n",
    "    \n",
    "    result += ' '.join(text[-1]) + ' '\n",
    "        \n",
    "    return result[:300]"
   ]
  },
  {
   "cell_type": "code",
   "execution_count": 167,
   "metadata": {},
   "outputs": [],
   "source": [
    "def annot(text):        \n",
    "    words = {}\n",
    "\n",
    "    for sent in text:\n",
    "        for word in sent:\n",
    "            word = word.lower()\n",
    "            words[word] = words.get(word, 0) + 1\n",
    "            \n",
    "#     print(words)\n",
    "            \n",
    "    most_freq = max(list(words.values()))\n",
    "    \n",
    "    scores = np.zeros(len(text))\n",
    "\n",
    "    for i, sent in enumerate(text):\n",
    "        for j, word in enumerate(sent):\n",
    "            word = word.lower()\n",
    "            next_freq = None if j == len(sent) - 1 else words[sent[j + 1].lower()]\n",
    "            if words[word] not in [1, most_freq]:\n",
    "                scores[i] += words[word] * (1 if next_freq is None or next_freq == most_freq else next_freq)\n",
    "        scores[i] /= len(sent)\n",
    "        \n",
    "    ind = np.argsort(scores)\n",
    "    \n",
    "    result = ''\n",
    "    for i in ind:\n",
    "        result += ' '.join(text[i]) + ' '\n",
    "        \n",
    "    return result[:300]"
   ]
  },
  {
   "cell_type": "code",
   "execution_count": null,
   "metadata": {},
   "outputs": [],
   "source": []
  }
 ],
 "metadata": {
  "kernelspec": {
   "display_name": "Python 3",
   "language": "python",
   "name": "python3"
  },
  "language_info": {
   "codemirror_mode": {
    "name": "ipython",
    "version": 3
   },
   "file_extension": ".py",
   "mimetype": "text/x-python",
   "name": "python",
   "nbconvert_exporter": "python",
   "pygments_lexer": "ipython3",
   "version": "3.6.3"
  }
 },
 "nbformat": 4,
 "nbformat_minor": 2
}
