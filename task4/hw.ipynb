{
 "cells": [
  {
   "cell_type": "code",
   "execution_count": 5,
   "metadata": {},
   "outputs": [],
   "source": [
    "import numpy as np\n",
    "from tqdm import tqdm\n",
    "\n",
    "from natasha import NamesExtractor, PersonExtractor, OrganisationExtractor"
   ]
  },
  {
   "cell_type": "code",
   "execution_count": 11,
   "metadata": {},
   "outputs": [
    {
     "name": "stderr",
     "output_type": "stream",
     "text": [
      "500it [00:11, 41.70it/s]\n"
     ]
    }
   ],
   "source": [
    "extractors = [NamesExtractor(), PersonExtractor(), OrganisationExtractor()]\n",
    "\n",
    "result = []\n",
    "\n",
    "with open('dataset_40163_1.txt') as file_data:\n",
    "    for i, text in tqdm(enumerate(file_data)):\n",
    "        result.append([extr(text) for extr in extractors])"
   ]
  },
  {
   "cell_type": "code",
   "execution_count": 49,
   "metadata": {},
   "outputs": [],
   "source": [
    "output = []\n",
    "\n",
    "for line in result:\n",
    "    output.append({})\n",
    "    for i, extr in enumerate(line):\n",
    "        for match in extr:\n",
    "            output[-1][(match.span[0], match.span[1])] = 'PERSON' if i != 2 else 'ORG'"
   ]
  },
  {
   "cell_type": "code",
   "execution_count": 51,
   "metadata": {},
   "outputs": [
    {
     "data": {
      "text/plain": [
       "{(8, 17): 'PERSON', (20, 26): 'PERSON', (83, 86): 'ORG'}"
      ]
     },
     "execution_count": 51,
     "metadata": {},
     "output_type": "execute_result"
    }
   ],
   "source": [
    "output[0]"
   ]
  },
  {
   "cell_type": "code",
   "execution_count": 60,
   "metadata": {},
   "outputs": [],
   "source": [
    "with open('output.txt', 'w') as file_res:\n",
    "    file_res.write('# natasha\\n')\n",
    "    for line in output:\n",
    "        for key in line:\n",
    "            k1, k2 = key\n",
    "            file_res.write('{st} {ln} {tp} '.format(st=k1, ln=k2-k1, tp=line[key]))\n",
    "        file_res.write('EOL\\n')"
   ]
  },
  {
   "cell_type": "markdown",
   "metadata": {},
   "source": [
    "https://nlpub.ru/FreeLing\n",
    "\n",
    "https://nlpub.ru/Eureka_Engine\n",
    "\n",
    "https://gist.github.com/gavinmh/4735528/\n",
    "\n",
    "https://gist.github.com/onyxfish/322906\n",
    "\n",
    "https://nlpforhackers.io/named-entity-extraction/\n",
    "\n",
    "http://polyglot.readthedocs.io/en/latest/NamedEntityRecognition.html"
   ]
  }
 ],
 "metadata": {
  "kernelspec": {
   "display_name": "Python 3",
   "language": "python",
   "name": "python3"
  },
  "language_info": {
   "codemirror_mode": {
    "name": "ipython",
    "version": 3
   },
   "file_extension": ".py",
   "mimetype": "text/x-python",
   "name": "python",
   "nbconvert_exporter": "python",
   "pygments_lexer": "ipython3",
   "version": "3.6.3"
  }
 },
 "nbformat": 4,
 "nbformat_minor": 2
}
