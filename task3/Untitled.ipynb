{
 "cells": [
  {
   "cell_type": "code",
   "execution_count": 43,
   "metadata": {},
   "outputs": [],
   "source": [
    "from nltk.tokenize import sent_tokenize\n",
    "from nltk.stem.snowball import RussianStemmer\n",
    "import numpy as np\n",
    "from tqdm import tqdm\n",
    "\n",
    "import indicoio\n",
    "indicoio.config.api_key = 'ecfce8823e60566eeaca387dd7b3d249'\n",
    "\n",
    "# https://github.com/text-machine-lab/sentimental\n",
    "from sentimental import Sentimental # beats baseling a little\n",
    "\n",
    "# http://www.nltk.org/howto/sentiment.html\n"
   ]
  },
  {
   "cell_type": "code",
   "execution_count": 14,
   "metadata": {},
   "outputs": [],
   "source": [
    "with open('texts_train.txt') as file_data:\n",
    "    X = []\n",
    "    for text in file_data:\n",
    "        X.append(text.replace('\\n', ''))\n",
    "\n",
    "with open('scores_train.txt') as file_data:\n",
    "    y = []\n",
    "    for score in file_data:\n",
    "        y.append(int(score.replace('\\n', '')))"
   ]
  },
  {
   "cell_type": "code",
   "execution_count": 83,
   "metadata": {},
   "outputs": [
    {
     "name": "stderr",
     "output_type": "stream",
     "text": [
      "1000it [00:00, 12163.08it/s]\n"
     ]
    }
   ],
   "source": [
    "with open('dataset_40757_1.txt') as file_data:\n",
    "    result = []\n",
    "    sent = Sentimental()\n",
    "    for i, text in tqdm(enumerate(file_data)):\n",
    "        result.append(sent.analyze(text)['comparative'])"
   ]
  },
  {
   "cell_type": "code",
   "execution_count": 100,
   "metadata": {},
   "outputs": [],
   "source": [
    "with open('output.txt', 'w') as file_res:\n",
    "    comment = 'sentimental'\n",
    "    file_res.write('# ' + comment +'\\n' + '\\n'.join(list(result.astype(str))))"
   ]
  },
  {
   "cell_type": "code",
   "execution_count": null,
   "metadata": {},
   "outputs": [],
   "source": []
  }
 ],
 "metadata": {
  "kernelspec": {
   "display_name": "Python 3",
   "language": "python",
   "name": "python3"
  },
  "language_info": {
   "codemirror_mode": {
    "name": "ipython",
    "version": 3
   },
   "file_extension": ".py",
   "mimetype": "text/x-python",
   "name": "python",
   "nbconvert_exporter": "python",
   "pygments_lexer": "ipython3",
   "version": "3.6.3"
  }
 },
 "nbformat": 4,
 "nbformat_minor": 2
}
